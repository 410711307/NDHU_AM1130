{
 "cells": [
  {
   "cell_type": "markdown",
   "metadata": {},
   "source": [
    "用方程式來畫麵包超人、哆啦A夢、米老鼠變形動畫\n",
    "\n",
    "\n",
    "先參考\n",
    "https://twitter.com/motcho_tw/status/690890329478672385\n",
    "\n",
    "\n",
    "方程式\n",
    "https://www.desmos.com/calculator/ssntlymwp5\n",
    "\n",
    "<img src='https://pbs.twimg.com/media/CZaMBwFUkAU-nrZ.jpg:large' />\n",
    "\n",
    "\n",
    "會需要畫隱函數, matplotlib 其實也可以直接畫, 但我們利用 sympy 來試試看\n",
    "\n"
   ]
  },
  {
   "cell_type": "code",
   "execution_count": null,
   "metadata": {
    "collapsed": true
   },
   "outputs": [],
   "source": [
    "import sympy\n",
    "from sympy import symbols, plotting\n",
    "sympy.init_printing()"
   ]
  },
  {
   "cell_type": "code",
   "execution_count": null,
   "metadata": {
    "collapsed": true
   },
   "outputs": [],
   "source": [
    "x, y = symbols('x y')"
   ]
  },
  {
   "cell_type": "code",
   "execution_count": null,
   "metadata": {},
   "outputs": [],
   "source": [
    "x"
   ]
  },
  {
   "cell_type": "code",
   "execution_count": null,
   "metadata": {
    "collapsed": true
   },
   "outputs": [],
   "source": [
    "%matplotlib inline"
   ]
  },
  {
   "cell_type": "code",
   "execution_count": null,
   "metadata": {},
   "outputs": [],
   "source": [
    "plotting.plot_implicit( (abs(x+3)+abs(x-3)-6)**2 + (x**2+y**2-20)**2 )"
   ]
  },
  {
   "cell_type": "code",
   "execution_count": null,
   "metadata": {
    "scrolled": false
   },
   "outputs": [],
   "source": [
    "import matplotlib.pyplot as plt\n",
    "from IPython.display import display\n",
    "from ipywidgets import Image\n",
    "from io import BytesIO\n",
    "from time import sleep\n",
    "img = Image()\n",
    "display(img)\n",
    "for i in range(1000):\n",
    "    fig = plotting.plot_implicit( (x-y)**2+i*(x+y)**2-1)\n",
    "    with BytesIO() as bio:\n",
    "        fig.save(bio)\n",
    "        img.value = bio.getvalue()\n",
    "        sleep(1)"
   ]
  }
 ],
 "metadata": {
  "kernelspec": {
   "display_name": "Python 3.6",
   "language": "python",
   "name": "python36"
  },
  "language_info": {
   "codemirror_mode": {
    "name": "ipython",
    "version": 3
   },
   "file_extension": ".py",
   "mimetype": "text/x-python",
   "name": "python",
   "nbconvert_exporter": "python",
   "pygments_lexer": "ipython3",
   "version": "3.6.2"
  }
 },
 "nbformat": 4,
 "nbformat_minor": 2
}
