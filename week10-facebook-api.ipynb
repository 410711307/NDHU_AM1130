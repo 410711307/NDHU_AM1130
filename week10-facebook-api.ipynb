{
 "cells": [
  {
   "cell_type": "code",
   "execution_count": null,
   "metadata": {},
   "outputs": [],
   "source": [
    "!pip install facebook-sdk"
   ]
  },
  {
   "cell_type": "code",
   "execution_count": null,
   "metadata": {
    "collapsed": true
   },
   "outputs": [],
   "source": [
    "import facebook"
   ]
  },
  {
   "cell_type": "markdown",
   "metadata": {},
   "source": [
    "取得 token https://developers.facebook.com/tools/explorer"
   ]
  },
  {
   "cell_type": "code",
   "execution_count": null,
   "metadata": {
    "collapsed": true
   },
   "outputs": [],
   "source": [
    "token=\"EAACEdEose0cBABOC5xSnJWtI6T8DB0UGxZB4zGWBDm8gfM4COMA1lwQqC3Q1oMfbJIyzzF65UiMNQAcutBd14v2JXl5ARnXN5Hf9MFM76OmxR1y11YiYK4d8HZCivb3BVaoTNkfFJvVznFBluOIDVpNyqry53IBrYSus0CDIQ6wGfZCZCogSAm57tdxZCc174BsFefD8ykgZDZD\""
   ]
  },
  {
   "cell_type": "code",
   "execution_count": null,
   "metadata": {},
   "outputs": [],
   "source": [
    "graph = facebook.GraphAPI(token, version=\"2.7\")"
   ]
  },
  {
   "cell_type": "code",
   "execution_count": null,
   "metadata": {},
   "outputs": [],
   "source": [
    "graph"
   ]
  },
  {
   "cell_type": "code",
   "execution_count": null,
   "metadata": {},
   "outputs": [],
   "source": [
    "obj= graph.get_object('me')\n",
    "obj"
   ]
  },
  {
   "cell_type": "code",
   "execution_count": null,
   "metadata": {},
   "outputs": [],
   "source": [
    "graph.get_object('108606645828941', fields=\"category,name\")"
   ]
  },
  {
   "cell_type": "code",
   "execution_count": null,
   "metadata": {},
   "outputs": [],
   "source": [
    "import json\n",
    "graph.get_object('me', \n",
    "    fields=json.dumps(['id','name','gender', \n",
    "                       'favorite_teams','location']))"
   ]
  },
  {
   "cell_type": "code",
   "execution_count": null,
   "metadata": {},
   "outputs": [],
   "source": [
    "json.dumps(['id','name','gender', 'favorite_teams'])"
   ]
  },
  {
   "cell_type": "code",
   "execution_count": null,
   "metadata": {
    "scrolled": false
   },
   "outputs": [],
   "source": [
    "for f in graph.get_object('108606645828941', metadata=1)['metadata']['fields']:\n",
    "    print(f)"
   ]
  },
  {
   "cell_type": "code",
   "execution_count": null,
   "metadata": {},
   "outputs": [],
   "source": [
    "for f in graph.get_object('108606645828941', metadata=1)['metadata']['connections']:\n",
    "    print(f)"
   ]
  },
  {
   "cell_type": "code",
   "execution_count": null,
   "metadata": {},
   "outputs": [],
   "source": [
    "graph.get_connections('me', connection_name = 'friends')"
   ]
  },
  {
   "cell_type": "code",
   "execution_count": null,
   "metadata": {
    "scrolled": false
   },
   "outputs": [],
   "source": [
    "graph.get_object('me', fields=json.dumps(['friends.limit(1000)']))"
   ]
  },
  {
   "cell_type": "code",
   "execution_count": null,
   "metadata": {
    "scrolled": false
   },
   "outputs": [],
   "source": [
    "from collections import  Counter\n",
    "friends = graph.get_object('me', fields=['friends.limit(1000)'])['friends']['data']\n",
    "stat = Counter()\n",
    "for f in friends:\n",
    "    key = \"favorite_athletes\"\n",
    "    obj = graph.get_object(f['id'], fields=json.dumps(['id','name', key]))\n",
    "    if key in obj:\n",
    "        print(f['id'], f['name'])\n",
    "        for item in obj[key]:\n",
    "            print(\"[\"+item['name']+\"]\", end=\" \") \n",
    "            stat[item['name']] += 1\n",
    "        print()\n",
    "print(stat.most_common(15))"
   ]
  },
  {
   "cell_type": "code",
   "execution_count": null,
   "metadata": {
    "scrolled": false
   },
   "outputs": [],
   "source": [
    "from collections import  Counter\n",
    "friends = graph.get_object('me', fields=['friends.limit(1000)'])['friends']['data']\n",
    "stat = Counter()\n",
    "for f in friends:\n",
    "    key = \"likes\"\n",
    "    obj = graph.get_object(f['id'], fields=json.dumps(['id','name', key]))\n",
    "    if key in obj:\n",
    "        print(f['id'], f['name'])\n",
    "        for item in obj[key]['data']:\n",
    "            print(\"[\"+item['name']+\"]\", end=\" \") \n",
    "            stat[item['name']] += 1\n",
    "        print()\n",
    "stat.most_common(15)"
   ]
  },
  {
   "cell_type": "code",
   "execution_count": null,
   "metadata": {
    "collapsed": true
   },
   "outputs": [],
   "source": [
    "def get_all_data(graph, req, N=0):\n",
    "    r = graph.get_object(req)\n",
    "    rtn = []\n",
    "    while N==0 or len(rtn)<N:\n",
    "        rtn.extend(r['data'])\n",
    "        if 'next' in r.get('paging', []):\n",
    "            r=requests.get(r['paging']['next']).json()\n",
    "        else:\n",
    "            break\n",
    "    return rtn"
   ]
  },
  {
   "cell_type": "code",
   "execution_count": null,
   "metadata": {},
   "outputs": [],
   "source": [
    "posts = get_all_data(graph, 'me/posts')\n",
    "print (len(posts))"
   ]
  },
  {
   "cell_type": "code",
   "execution_count": null,
   "metadata": {},
   "outputs": [],
   "source": [
    "posts[1]['id']+\"/likes\""
   ]
  },
  {
   "cell_type": "code",
   "execution_count": null,
   "metadata": {
    "scrolled": false
   },
   "outputs": [],
   "source": [
    "graph.get_object('10201382289514027_10209028062133564', fields='likes')['likes']['data']"
   ]
  },
  {
   "cell_type": "code",
   "execution_count": null,
   "metadata": {},
   "outputs": [],
   "source": [
    "get_all_data(graph, \"10201382289514027_10209028062133564/likes\")"
   ]
  },
  {
   "cell_type": "code",
   "execution_count": null,
   "metadata": {},
   "outputs": [],
   "source": [
    "graph.get_object('naomiogaow')"
   ]
  },
  {
   "cell_type": "code",
   "execution_count": null,
   "metadata": {},
   "outputs": [],
   "source": [
    "graph.get_connections('naomiogaow', connection_name='photos')"
   ]
  },
  {
   "cell_type": "code",
   "execution_count": null,
   "metadata": {
    "scrolled": false
   },
   "outputs": [],
   "source": [
    "graph.get_object('1528526433834824', fields='link')"
   ]
  },
  {
   "cell_type": "code",
   "execution_count": null,
   "metadata": {},
   "outputs": [],
   "source": [
    "r = requests.get('https://www.facebook.com/naomiogaow/photos/a.402481713105974.89963.402481453106000/1528526433834824/?type=3')"
   ]
  }
 ],
 "metadata": {
  "kernelspec": {
   "display_name": "Python 3.6",
   "language": "python",
   "name": "python36"
  },
  "language_info": {
   "codemirror_mode": {
    "name": "ipython",
    "version": 3
   },
   "file_extension": ".py",
   "mimetype": "text/x-python",
   "name": "python",
   "nbconvert_exporter": "python",
   "pygments_lexer": "ipython3",
   "version": "3.6.2"
  }
 },
 "nbformat": 4,
 "nbformat_minor": 2
}
