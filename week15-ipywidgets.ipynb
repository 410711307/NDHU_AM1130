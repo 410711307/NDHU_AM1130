{
 "cells": [
  {
   "cell_type": "code",
   "execution_count": null,
   "metadata": {
    "collapsed": true
   },
   "outputs": [],
   "source": [
    "import ipywidgets as W"
   ]
  },
  {
   "cell_type": "code",
   "execution_count": null,
   "metadata": {
    "scrolled": true
   },
   "outputs": [],
   "source": [
    "W.Button(description='按鈕')"
   ]
  },
  {
   "cell_type": "code",
   "execution_count": null,
   "metadata": {
    "collapsed": true
   },
   "outputs": [],
   "source": [
    "def f(x):\n",
    "    return 2**x"
   ]
  },
  {
   "cell_type": "code",
   "execution_count": null,
   "metadata": {},
   "outputs": [],
   "source": [
    "W.interact(f, x=W.IntSlider(min=-10, max=10, value=0));"
   ]
  },
  {
   "cell_type": "code",
   "execution_count": null,
   "metadata": {},
   "outputs": [],
   "source": [
    "W.interact(f, x=W.FloatSlider(min=-10, max=10, value=0));"
   ]
  },
  {
   "cell_type": "code",
   "execution_count": null,
   "metadata": {},
   "outputs": [],
   "source": [
    "def hello(name):\n",
    "    return \"Hello \"+name+\"!\"\n",
    "W.interact(hello, name=\"Alice\");"
   ]
  },
  {
   "cell_type": "code",
   "execution_count": null,
   "metadata": {},
   "outputs": [],
   "source": [
    "@W.interact(name=\"Alice\")\n",
    "def hello(name):\n",
    "    return \"Hello {}!\".format(name)"
   ]
  },
  {
   "cell_type": "code",
   "execution_count": null,
   "metadata": {},
   "outputs": [],
   "source": [
    "%matplotlib inline\n",
    "import matplotlib.pyplot as plt\n",
    "import numpy as np\n",
    "x = np.linspace(-10, 10, 100)\n",
    "plt.plot(x, x**2)"
   ]
  },
  {
   "cell_type": "code",
   "execution_count": null,
   "metadata": {},
   "outputs": [],
   "source": [
    "@W.interact(a=W.IntSlider(min=-5,max=5,value=1), \n",
    "            b=W.IntSlider(min=-5,max=5,value=0), \n",
    "            c=W.IntSlider(min=-5,max=5,value=0))\n",
    "def plot1(a, b, c):\n",
    "    plt.plot(x, a*x**2+b*x+c)"
   ]
  },
  {
   "cell_type": "code",
   "execution_count": null,
   "metadata": {
    "slideshow": {
     "slide_type": "slide"
    }
   },
   "outputs": [],
   "source": [
    "@W.interact(a=W.IntSlider(min=-5,max=5,value=1))\n",
    "def plot1(a):\n",
    "    plt.plot(x, np.sin(a*x))"
   ]
  },
  {
   "cell_type": "code",
   "execution_count": null,
   "metadata": {},
   "outputs": [],
   "source": [
    "W.HTML('<a href=\"https://google.com\">kkk</a>')"
   ]
  },
  {
   "cell_type": "code",
   "execution_count": null,
   "metadata": {},
   "outputs": [],
   "source": [
    "button = W.Button(description='A')\n",
    "def onclick(b):\n",
    "    print(b)\n",
    "button.on_click(onclick)\n",
    "button"
   ]
  },
  {
   "cell_type": "code",
   "execution_count": null,
   "metadata": {},
   "outputs": [],
   "source": [
    "from IPython.display import display\n",
    "buttons = [W.Button(description=c) for c in \"上下左右\"]\n",
    "for b in buttons:\n",
    "    display(b)"
   ]
  },
  {
   "cell_type": "code",
   "execution_count": null,
   "metadata": {},
   "outputs": [],
   "source": [
    "from IPython.display import display\n",
    "buttons = [W.Button(description=c) for c in \"上下左右\"]\n",
    "W.VBox(buttons)"
   ]
  },
  {
   "cell_type": "code",
   "execution_count": null,
   "metadata": {},
   "outputs": [],
   "source": [
    "W.VBox([W.HBox(buttons[:2]),W.HBox(buttons[2:])])"
   ]
  },
  {
   "cell_type": "code",
   "execution_count": null,
   "metadata": {},
   "outputs": [],
   "source": [
    "from IPython.display import display\n",
    "buttons = [W.Button(description=c) for c in \"上下左右\"]\n",
    "def onclick(b):\n",
    "    print(b)\n",
    "for b in buttons:\n",
    "    b.on_click(onclick)\n",
    "W.HBox(buttons)"
   ]
  },
  {
   "cell_type": "code",
   "execution_count": 63,
   "metadata": {
    "scrolled": false
   },
   "outputs": [
    {
     "data": {
      "application/vnd.jupyter.widget-view+json": {
       "model_id": "64bc66ccfb834cfcbd8d53deaae765bb",
       "version_major": 2,
       "version_minor": 0
      },
      "text/plain": [
       "A Jupyter Widget"
      ]
     },
     "metadata": {},
     "output_type": "display_data"
    },
    {
     "data": {
      "image/png": "[encoded data removed]",
      "text/plain": [
       "<matplotlib.figure.Figure at 0x7f2e04141630>"
      ]
     },
     "metadata": {},
     "output_type": "display_data"
    }
   ],
   "source": [
    "from IPython.display import clear_output\n",
    "buttons = [W.Button(description=c) for c in \"上下左右\"]\n",
    "x=[0]\n",
    "y=[0]\n",
    "def render(b):\n",
    "    if b.description=='上':\n",
    "        y[0]+=.1\n",
    "    if b.description=='下':\n",
    "        y[0]-=.1\n",
    "    if b.description=='右':\n",
    "        x[0]+=.1\n",
    "    if b.description=='左':\n",
    "        x[0]-=.1\n",
    "    clear_output()\n",
    "    display(W.HBox(buttons))\n",
    "    plt.xlim(-1,1)\n",
    "    plt.ylim(-1,1)\n",
    "    plt.plot(x,y, 'x')\n",
    "for b in buttons:\n",
    "    b.on_click(render)\n",
    "W.HBox(buttons)"
   ]
  },
  {
   "cell_type": "code",
   "execution_count": 65,
   "metadata": {},
   "outputs": [
    {
     "data": {
      "application/vnd.jupyter.widget-view+json": {
       "model_id": "4cf06a86387d4649b69bed722dba6c6c",
       "version_major": 2,
       "version_minor": 0
      },
      "text/plain": [
       "A Jupyter Widget"
      ]
     },
     "metadata": {},
     "output_type": "display_data"
    },
    {
     "data": {
      "image/png": "[encoded data removed]",
      "text/plain": [
       "<matplotlib.figure.Figure at 0x7f2e049da400>"
      ]
     },
     "metadata": {},
     "output_type": "display_data"
    }
   ],
   "source": [
    "from IPython.display import clear_output\n",
    "buttons = [W.Button(description=c) for c in \"上下左右\"]\n",
    "x=[0]\n",
    "y=[0]\n",
    "def render(b):\n",
    "    x0, y0 = x[-1], y[-1]\n",
    "    if b.description=='上':\n",
    "        y0+=.1\n",
    "    if b.description=='下':\n",
    "        y0-=.1\n",
    "    if b.description=='右':\n",
    "        x0+=.1\n",
    "    if b.description=='左':\n",
    "        x0-=.1\n",
    "    x.append(x0)\n",
    "    y.append(y0)\n",
    "    clear_output()\n",
    "    display(W.HBox(buttons))\n",
    "    plt.xlim(-1,1)\n",
    "    plt.ylim(-1,1)\n",
    "    plt.plot(x,y)\n",
    "    plt.plot([x0], [y0], 'x')\n",
    "for b in buttons:\n",
    "    b.on_click(render)\n",
    "W.HBox(buttons)"
   ]
  },
  {
   "cell_type": "code",
   "execution_count": null,
   "metadata": {
    "collapsed": true
   },
   "outputs": [],
   "source": []
  }
 ],
 "metadata": {
  "kernelspec": {
   "display_name": "Python 3.6",
   "language": "python",
   "name": "python36"
  },
  "language_info": {
   "codemirror_mode": {
    "name": "ipython",
    "version": 3
   },
   "file_extension": ".py",
   "mimetype": "text/x-python",
   "name": "python",
   "nbconvert_exporter": "python",
   "pygments_lexer": "ipython3",
   "version": "3.6.3"
  }
 },
 "nbformat": 4,
 "nbformat_minor": 2
}
