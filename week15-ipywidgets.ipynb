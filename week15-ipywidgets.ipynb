{
 "cells": [
  {
   "cell_type": "code",
   "execution_count": null,
   "metadata": {
    "collapsed": true
   },
   "outputs": [],
   "source": [
    "import ipywidgets as W"
   ]
  },
  {
   "cell_type": "code",
   "execution_count": null,
   "metadata": {
    "scrolled": true
   },
   "outputs": [],
   "source": [
    "W.Button(description='按鈕')"
   ]
  },
  {
   "cell_type": "code",
   "execution_count": null,
   "metadata": {
    "collapsed": true
   },
   "outputs": [],
   "source": [
    "def f(x):\n",
    "    return 2**x"
   ]
  },
  {
   "cell_type": "code",
   "execution_count": null,
   "metadata": {},
   "outputs": [],
   "source": [
    "W.interact(f, x=W.IntSlider(min=-10, max=10, value=0));"
   ]
  },
  {
   "cell_type": "code",
   "execution_count": null,
   "metadata": {},
   "outputs": [],
   "source": [
    "W.interact(f, x=W.FloatSlider(min=-10, max=10, value=0));"
   ]
  },
  {
   "cell_type": "code",
   "execution_count": null,
   "metadata": {},
   "outputs": [],
   "source": [
    "def hello(name):\n",
    "    return \"Hello \"+name+\"!\"\n",
    "W.interact(hello, name=\"Alice\");"
   ]
  },
  {
   "cell_type": "code",
   "execution_count": null,
   "metadata": {},
   "outputs": [],
   "source": [
    "@W.interact(name=\"Alice\")\n",
    "def hello(name):\n",
    "    return \"Hello {}!\".format(name)"
   ]
  },
  {
   "cell_type": "code",
   "execution_count": null,
   "metadata": {},
   "outputs": [],
   "source": [
    "%matplotlib inline\n",
    "import matplotlib.pyplot as plt\n",
    "import numpy as np\n",
    "x = np.linspace(-10, 10, 100)\n",
    "plt.plot(x, x**2)"
   ]
  },
  {
   "cell_type": "code",
   "execution_count": null,
   "metadata": {},
   "outputs": [],
   "source": [
    "@W.interact(a=W.IntSlider(min=-5,max=5,value=1), \n",
    "            b=W.IntSlider(min=-5,max=5,value=0), \n",
    "            c=W.IntSlider(min=-5,max=5,value=0))\n",
    "def plot1(a, b, c):\n",
    "    plt.plot(x, a*x**2+b*x+c)"
   ]
  },
  {
   "cell_type": "code",
   "execution_count": null,
   "metadata": {
    "slideshow": {
     "slide_type": "slide"
    }
   },
   "outputs": [],
   "source": [
    "@W.interact(a=W.IntSlider(min=-5,max=5,value=1))\n",
    "def plot1(a):\n",
    "    plt.plot(x, np.sin(a*x))"
   ]
  },
  {
   "cell_type": "code",
   "execution_count": null,
   "metadata": {},
   "outputs": [],
   "source": [
    "W.HTML('<a href=\"https://google.com\">kkk</a>')"
   ]
  },
  {
   "cell_type": "code",
   "execution_count": null,
   "metadata": {},
   "outputs": [],
   "source": [
    "button = W.Button(description='A')\n",
    "def onclick(b):\n",
    "    print(b)\n",
    "button.on_click(onclick)\n",
    "button"
   ]
  },
  {
   "cell_type": "code",
   "execution_count": null,
   "metadata": {},
   "outputs": [],
   "source": [
    "from IPython.display import display\n",
    "buttons = [W.Button(description=c) for c in \"上下左右\"]\n",
    "for b in buttons:\n",
    "    display(b)"
   ]
  },
  {
   "cell_type": "code",
   "execution_count": null,
   "metadata": {},
   "outputs": [],
   "source": [
    "from IPython.display import display\n",
    "buttons = [W.Button(description=c) for c in \"上下左右\"]\n",
    "W.VBox(buttons)"
   ]
  },
  {
   "cell_type": "code",
   "execution_count": null,
   "metadata": {},
   "outputs": [],
   "source": [
    "W.VBox([W.HBox(buttons[:2]),W.HBox(buttons[2:])])"
   ]
  },
  {
   "cell_type": "code",
   "execution_count": null,
   "metadata": {},
   "outputs": [],
   "source": [
    "from IPython.display import display\n",
    "buttons = [W.Button(description=c) for c in \"上下左右\"]\n",
    "def onclick(b):\n",
    "    print(b)\n",
    "for b in buttons:\n",
    "    b.on_click(onclick)\n",
    "W.HBox(buttons)"
   ]
  },
  {
   "cell_type": "code",
   "execution_count": 63,
   "metadata": {
    "scrolled": false
   },
   "outputs": [
    {
     "data": {
      "application/vnd.jupyter.widget-view+json": {
       "model_id": "64bc66ccfb834cfcbd8d53deaae765bb",
       "version_major": 2,
       "version_minor": 0
      },
      "text/plain": [
       "A Jupyter Widget"
      ]
     },
     "metadata": {},
     "output_type": "display_data"
    },
    {
     "data": {
      "image/png": "[encoded data removed]",
      "text/plain": [
       "<matplotlib.figure.Figure at 0x7f2e04141630>"
      ]
     },
     "metadata": {},
     "output_type": "display_data"
    }
   ],
   "source": [
    "from IPython.display import clear_output\n",
    "buttons = [W.Button(description=c) for c in \"上下左右\"]\n",
    "x=[0]\n",
    "y=[0]\n",
    "def render(b):\n",
    "    if b.description=='上':\n",
    "        y[0]+=.1\n",
    "    if b.description=='下':\n",
    "        y[0]-=.1\n",
    "    if b.description=='右':\n",
    "        x[0]+=.1\n",
    "    if b.description=='左':\n",
    "        x[0]-=.1\n",
    "    clear_output()\n",
    "    display(W.HBox(buttons))\n",
    "    plt.xlim(-1,1)\n",
    "    plt.ylim(-1,1)\n",
    "    plt.plot(x,y, 'x')\n",
    "for b in buttons:\n",
    "    b.on_click(render)\n",
    "W.HBox(buttons)"
   ]
  },
  {
   "cell_type": "code",
   "execution_count": 65,
   "metadata": {},
   "outputs": [
    {
     "data": {
      "application/vnd.jupyter.widget-view+json": {
       "model_id": "80b7760652df4e5089fac7ad592d57e7",
       "version_major": 2,
       "version_minor": 0
      },
      "text/plain": [
       "A Jupyter Widget"
      ]
     },
     "metadata": {},
     "output_type": "display_data"
    },
    {
     "data": {
      "image/png": "[encoded data removed]",
      "text/plain": [
       "<matplotlib.figure.Figure at 0x7f2e04d922b0>"
      ]
     },
     "metadata": {},
     "output_type": "display_data"
    }
   ],
   "source": [
    "from IPython.display import clear_output\n",
    "buttons = [W.Button(description=c) for c in \"上下左右\"]\n",
    "x=[0]\n",
    "y=[0]\n",
    "def render(b):\n",
    "    x0, y0 = x[-1], y[-1]\n",
    "    if b.description=='上':\n",
    "        y0+=.1\n",
    "    if b.description=='下':\n",
    "        y0-=.1\n",
    "    if b.description=='右':\n",
    "        x0+=.1\n",
    "    if b.description=='左':\n",
    "        x0-=.1\n",
    "    x.append(x0)\n",
    "    y.append(y0)\n",
    "    clear_output()\n",
    "    display(W.HBox(buttons))\n",
    "    plt.xlim(-1,1)\n",
    "    plt.ylim(-1,1)\n",
    "    plt.plot(x,y)\n",
    "    plt.plot([x0], [y0], 'x')\n",
    "for b in buttons:\n",
    "    b.on_click(render)\n",
    "W.HBox(buttons)"
   ]
  },
  {
   "cell_type": "code",
   "execution_count": 153,
   "metadata": {},
   "outputs": [
    {
     "data": {
      "text/plain": [
       "array([[0, 0, 0, 0],\n",
       "       [0, 0, 0, 0],\n",
       "       [0, 0, 0, 0],\n",
       "       [0, 0, 0, 0]])"
      ]
     },
     "execution_count": 153,
     "metadata": {},
     "output_type": "execute_result"
    }
   ],
   "source": [
    "grid = np.zeros((4,4), dtype='int')\n",
    "grid"
   ]
  },
  {
   "cell_type": "code",
   "execution_count": 79,
   "metadata": {},
   "outputs": [
    {
     "name": "stdout",
     "output_type": "stream",
     "text": [
      "   0    0    0    0\n",
      "   0    0  256    0\n",
      "   0    0    0    0\n",
      "   0    0    0    0\n"
     ]
    }
   ],
   "source": [
    "for l in grid:\n",
    "    print(\"{:4d} {:4d} {:4d} {:4d}\".format(l[0], l[1], l[2], l[3]) )"
   ]
  },
  {
   "cell_type": "code",
   "execution_count": 100,
   "metadata": {},
   "outputs": [
    {
     "name": "stdout",
     "output_type": "stream",
     "text": [
      "-------------------\n",
      "   0|   0|   0|   0\n",
      "-------------------\n",
      "   0|2048| 256|   0\n",
      "-------------------\n",
      "   0|   0|   0|   0\n",
      "-------------------\n",
      "   0|   0|   0|   0\n",
      "-------------------\n"
     ]
    }
   ],
   "source": [
    "def print_grid(grid):\n",
    "    print(\"-\"*19)\n",
    "    for l in grid:\n",
    "        print( \"|\".join([\"{:4d}\"]*4).format(*l) )\n",
    "        print(\"-\"*19)\n",
    "print_grid(grid)"
   ]
  },
  {
   "cell_type": "code",
   "execution_count": 101,
   "metadata": {},
   "outputs": [],
   "source": [
    "def empty_squares(grid):\n",
    "    return np.argwhere(grid==0)"
   ]
  },
  {
   "cell_type": "code",
   "execution_count": 155,
   "metadata": {},
   "outputs": [
    {
     "name": "stdout",
     "output_type": "stream",
     "text": [
      "True\n",
      "-------------------\n",
      "   0|   0|   0|   0\n",
      "-------------------\n",
      "   0|   0|   2|   0\n",
      "-------------------\n",
      "   0|   0|   0|   0\n",
      "-------------------\n",
      "   0|   0|   2|   0\n",
      "-------------------\n"
     ]
    }
   ],
   "source": [
    "def add_new_square(grid):\n",
    "    sq = empty_squares(grid)\n",
    "    if sq.shape[0] == 0:\n",
    "        return False\n",
    "    np.random.shuffle(sq)\n",
    "    grid[tuple(sq[0])]= 2 if np.random.randint(0,10) else 4\n",
    "    return True\n",
    "print(add_new_square(grid))\n",
    "print_grid(grid)"
   ]
  },
  {
   "cell_type": "code",
   "execution_count": null,
   "metadata": {
    "collapsed": true
   },
   "outputs": [],
   "source": []
  },
  {
   "cell_type": "code",
   "execution_count": 156,
   "metadata": {
    "collapsed": true
   },
   "outputs": [],
   "source": [
    "grid0 = grid.copy()"
   ]
  }
 ],
 "metadata": {
  "kernelspec": {
   "display_name": "Python 3.6",
   "language": "python",
   "name": "python36"
  },
  "language_info": {
   "codemirror_mode": {
    "name": "ipython",
    "version": 3
   },
   "file_extension": ".py",
   "mimetype": "text/x-python",
   "name": "python",
   "nbconvert_exporter": "python",
   "pygments_lexer": "ipython3",
   "version": "3.6.3"
  }
 },
 "nbformat": 4,
 "nbformat_minor": 2
}
