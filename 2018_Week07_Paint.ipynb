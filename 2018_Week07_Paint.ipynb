{
  "nbformat": 4,
  "nbformat_minor": 0,
  "metadata": {
    "colab": {
      "name": "2018 Week07 Paint",
      "version": "0.3.2",
      "provenance": [],
      "collapsed_sections": [],
      "include_colab_link": true
    },
    "kernelspec": {
      "name": "python3",
      "display_name": "Python 3"
    }
  },
  "cells": [
    {
      "cell_type": "markdown",
      "metadata": {
        "id": "view-in-github",
        "colab_type": "text"
      },
      "source": [
        "[View in Colaboratory](https://colab.research.google.com/github/tjwei/NDHU_AM1130/blob/master/2018_Week07_Paint.ipynb)"
      ]
    },
    {
      "metadata": {
        "id": "uKC8GKjVYPfL",
        "colab_type": "code",
        "colab": {}
      },
      "cell_type": "code",
      "source": [
        "%matplotlib inline\n",
        "import numpy as np\n",
        "import matplotlib.pyplot as plt"
      ],
      "execution_count": 0,
      "outputs": []
    },
    {
      "metadata": {
        "id": "X-xmD5_5YgKO",
        "colab_type": "code",
        "colab": {
          "base_uri": "https://localhost:8080/",
          "height": 286
        },
        "outputId": "0a096b4c-bf33-47ae-932a-b72377d9ef6a"
      },
      "cell_type": "code",
      "source": [
        "img = np.zeros((600, 800, 3), dtype=np.float)\n",
        "plt.imshow(img)"
      ],
      "execution_count": 24,
      "outputs": [
        {
          "output_type": "execute_result",
          "data": {
            "text/plain": [
              "<matplotlib.image.AxesImage at 0x7f92ee9ca550>"
            ]
          },
          "metadata": {
            "tags": []
          },
          "execution_count": 24
        },
        {
          "output_type": "display_data",
          "data": {
            "image/png": "[encoded data removed]",
            "text/plain": [
              "<matplotlib.figure.Figure at 0x7f92eeaf57f0>"
            ]
          },
          "metadata": {
            "tags": []
          }
        }
      ]
    },
    {
      "metadata": {
        "id": "vvth0NZkYy5t",
        "colab_type": "code",
        "colab": {
          "base_uri": "https://localhost:8080/",
          "height": 286
        },
        "outputId": "4361eb52-765b-4ff1-ce01-ec37a1b22dd2"
      },
      "cell_type": "code",
      "source": [
        "img[200:300, 400:500] = (0,1,0)\n",
        "plt.imshow(img)"
      ],
      "execution_count": 25,
      "outputs": [
        {
          "output_type": "execute_result",
          "data": {
            "text/plain": [
              "<matplotlib.image.AxesImage at 0x7f92ee92e748>"
            ]
          },
          "metadata": {
            "tags": []
          },
          "execution_count": 25
        },
        {
          "output_type": "display_data",
          "data": {
            "image/png": "[encoded data removed]",
            "text/plain": [
              "<matplotlib.figure.Figure at 0x7f92ee9e4f28>"
            ]
          },
          "metadata": {
            "tags": []
          }
        }
      ]
    },
    {
      "metadata": {
        "id": "XX9tXLAYZZNQ",
        "colab_type": "code",
        "colab": {
          "base_uri": "https://localhost:8080/",
          "height": 286
        },
        "outputId": "6b600a3a-c22f-4b11-b898-f54a320165d6"
      },
      "cell_type": "code",
      "source": [
        "y, x = np.indices((600, 800))\n",
        "img[(x-450)**2 + (y-350)**2 < 50**2] = (1,0,0)\n",
        "plt.imshow(img, interpolation='bilinear')"
      ],
      "execution_count": 26,
      "outputs": [
        {
          "output_type": "execute_result",
          "data": {
            "text/plain": [
              "<matplotlib.image.AxesImage at 0x7f92ee917320>"
            ]
          },
          "metadata": {
            "tags": []
          },
          "execution_count": 26
        },
        {
          "output_type": "display_data",
          "data": {
            "image/png": "[encoded data removed]",
            "text/plain": [
              "<matplotlib.figure.Figure at 0x7f92ee993588>"
            ]
          },
          "metadata": {
            "tags": []
          }
        }
      ]
    },
    {
      "metadata": {
        "id": "YisWf44QaZV9",
        "colab_type": "code",
        "colab": {
          "base_uri": "https://localhost:8080/",
          "height": 286
        },
        "outputId": "e616b3cb-7ef7-44f2-bab2-c41fa3acde1a"
      },
      "cell_type": "code",
      "source": [
        "plt.imshow(img[200:400, 300:500], interpolation='bilinear')"
      ],
      "execution_count": 17,
      "outputs": [
        {
          "output_type": "execute_result",
          "data": {
            "text/plain": [
              "<matplotlib.image.AxesImage at 0x7f92eec93390>"
            ]
          },
          "metadata": {
            "tags": []
          },
          "execution_count": 17
        },
        {
          "output_type": "display_data",
          "data": {
            "image/png": "[encoded data removed]",
            "text/plain": [
              "<matplotlib.figure.Figure at 0x7f92eece7358>"
            ]
          },
          "metadata": {
            "tags": []
          }
        }
      ]
    },
    {
      "metadata": {
        "id": "yJrv7AmkagWR",
        "colab_type": "code",
        "colab": {
          "base_uri": "https://localhost:8080/",
          "height": 286
        },
        "outputId": "54c7a71a-032f-4e88-d819-280017a61b93"
      },
      "cell_type": "code",
      "source": [
        "img[250-10:250+10, 300:400] = (0,0,1)\n",
        "img[200:300, 350-10:350+10] = (0,0,1)\n",
        "plt.imshow(img[200:400, 300:500], interpolation='bilinear')"
      ],
      "execution_count": 27,
      "outputs": [
        {
          "output_type": "execute_result",
          "data": {
            "text/plain": [
              "<matplotlib.image.AxesImage at 0x7f92ee87c240>"
            ]
          },
          "metadata": {
            "tags": []
          },
          "execution_count": 27
        },
        {
          "output_type": "display_data",
          "data": {
            "image/png": "[encoded data removed]",
            "text/plain": [
              "<matplotlib.figure.Figure at 0x7f92ee8a86d8>"
            ]
          },
          "metadata": {
            "tags": []
          }
        }
      ]
    },
    {
      "metadata": {
        "id": "vGpqV_13d4JU",
        "colab_type": "code",
        "colab": {
          "base_uri": "https://localhost:8080/",
          "height": 286
        },
        "outputId": "339b8df6-8835-49cf-b76c-c22557698bf7"
      },
      "cell_type": "code",
      "source": [
        "plt.imshow(img, interpolation='bilinear')"
      ],
      "execution_count": 21,
      "outputs": [
        {
          "output_type": "execute_result",
          "data": {
            "text/plain": [
              "<matplotlib.image.AxesImage at 0x7f92eeb14e80>"
            ]
          },
          "metadata": {
            "tags": []
          },
          "execution_count": 21
        },
        {
          "output_type": "display_data",
          "data": {
            "image/png": "[encoded data removed]",
            "text/plain": [
              "<matplotlib.figure.Figure at 0x7f92eec78438>"
            ]
          },
          "metadata": {
            "tags": []
          }
        }
      ]
    },
    {
      "metadata": {
        "id": "w2HJ2ZsRd9K0",
        "colab_type": "code",
        "colab": {
          "base_uri": "https://localhost:8080/",
          "height": 286
        },
        "outputId": "edb12a03-511f-476c-d24e-6419ff399d3a"
      },
      "cell_type": "code",
      "source": [
        "box = (x<400) & (x>=300) & (y>=300) & (y<=400)\n",
        "img[box]  = 0\n",
        "line1 = y>=350-0.5*(x-300)\n",
        "line2 = y<=350+1.*(x-300)\n",
        "line3 = y<=400-2.*(x-350)\n",
        "\n",
        "img[line1 & line2 & line3 & box] = 1\n",
        "plt.imshow(img, interpolation='bilinear')"
      ],
      "execution_count": 37,
      "outputs": [
        {
          "output_type": "execute_result",
          "data": {
            "text/plain": [
              "<matplotlib.image.AxesImage at 0x7f92ee476128>"
            ]
          },
          "metadata": {
            "tags": []
          },
          "execution_count": 37
        },
        {
          "output_type": "display_data",
          "data": {
            "image/png": "[encoded data removed]",
            "text/plain": [
              "<matplotlib.figure.Figure at 0x7f92ee49f6d8>"
            ]
          },
          "metadata": {
            "tags": []
          }
        }
      ]
    },
    {
      "metadata": {
        "id": "-lWok-Ecf3GV",
        "colab_type": "code",
        "colab": {
          "base_uri": "https://localhost:8080/",
          "height": 286
        },
        "outputId": "41eeb9bc-dc3a-4c7b-f7d5-008e3fd057eb"
      },
      "cell_type": "code",
      "source": [
        "img[0:100, 0:100] = img[300:400, 400:500]\n",
        "img[0:100, 100:200] = img[200:300, 300:400]\n",
        "img[0:100, 200:300] = img[250:350, 350:450]\n",
        "img[0:100, 300:400] = img[300:400, 400:300:-1]\n",
        "img[0:100, 400:500] = img[400:300:-1, 300:400]\n",
        "img[0:100, 500:600] = img[400:300:-1, 400:300:-1]\n",
        "img[0:100, 600:700] = img[200:400:2, 300:500:2]\n",
        "img[100:300:2, 0:200:2] = img[300:400, 300:400]\n",
        "# 貼四個圖形\n",
        "img[101:300:2, 0:200:2] = img[200:300, 300:400]\n",
        "img[100:300:2, 1:200:2] = img[300:400, 400:500]\n",
        "img[101:300:2, 1:200:2] = img[200:300, 400:500]\n",
        "# 行列互換 hint:(keyword transpose, .T)\n",
        "img[300:500, 0:200]=np.transpose(img[200:400, 300:500], axes=[1,0,2])\n",
        "# 旋轉九十度 \n",
        "plt.imshow(img, interpolation='bilinear')\n"
      ],
      "execution_count": 59,
      "outputs": [
        {
          "output_type": "execute_result",
          "data": {
            "text/plain": [
              "<matplotlib.image.AxesImage at 0x7f92edf4a0f0>"
            ]
          },
          "metadata": {
            "tags": []
          },
          "execution_count": 59
        },
        {
          "output_type": "display_data",
          "data": {
            "image/png": "[encoded data removed]",
            "text/plain": [
              "<matplotlib.figure.Figure at 0x7f92ee1d1940>"
            ]
          },
          "metadata": {
            "tags": []
          }
        }
      ]
    },
    {
      "metadata": {
        "id": "8g0KcgTCk-Lk",
        "colab_type": "code",
        "colab": {
          "base_uri": "https://localhost:8080/",
          "height": 34
        },
        "outputId": "4a50f8fe-dbfe-4abd-816f-274733029107"
      },
      "cell_type": "code",
      "source": [
        "img[200:400, 200:500].shape"
      ],
      "execution_count": 57,
      "outputs": [
        {
          "output_type": "execute_result",
          "data": {
            "text/plain": [
              "(200, 300, 3)"
            ]
          },
          "metadata": {
            "tags": []
          },
          "execution_count": 57
        }
      ]
    },
    {
      "metadata": {
        "id": "ViVI4I0Ni9nv",
        "colab_type": "code",
        "colab": {
          "base_uri": "https://localhost:8080/",
          "height": 34
        },
        "outputId": "0ac72de2-f8f3-4d4a-aa0a-87bcf4129eca"
      },
      "cell_type": "code",
      "source": [
        "np.transpose(img[200:400, 200:500], axes=[1,0,2]).shape"
      ],
      "execution_count": 58,
      "outputs": [
        {
          "output_type": "execute_result",
          "data": {
            "text/plain": [
              "(300, 200, 3)"
            ]
          },
          "metadata": {
            "tags": []
          },
          "execution_count": 58
        }
      ]
    }
  ]
}