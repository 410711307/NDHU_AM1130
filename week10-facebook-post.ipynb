{
 "cells": [
  {
   "cell_type": "code",
   "execution_count": null,
   "metadata": {
    "collapsed": true
   },
   "outputs": [],
   "source": [
    "import facebook"
   ]
  },
  {
   "cell_type": "markdown",
   "metadata": {},
   "source": [
    "取得 token https://developers.facebook.com/tools/explorer"
   ]
  },
  {
   "cell_type": "code",
   "execution_count": null,
   "metadata": {
    "collapsed": true
   },
   "outputs": [],
   "source": [
    "token=\"EAACEdEose0cBABOC5xSnJWtI6T8DB0UGxZB4zGWBDm8gfM4COMA1lwQqC3Q1oMfbJIyzzF65UiMNQAcutBd14v2JXl5ARnXN5Hf9MFM76OmxR1y11YiYK4d8HZCivb3BVaoTNkfFJvVznFBluOIDVpNyqry53IBrYSus0CDIQ6wGfZCZCogSAm57tdxZCc174BsFefD8ykgZDZD\""
   ]
  },
  {
   "cell_type": "code",
   "execution_count": null,
   "metadata": {
    "collapsed": true
   },
   "outputs": [],
   "source": [
    "graph = facebook.GraphAPI(token, version=\"2.7\")"
   ]
  },
  {
   "cell_type": "code",
   "execution_count": null,
   "metadata": {
    "collapsed": true
   },
   "outputs": [],
   "source": [
    "%matplotlib inline\n",
    "import matplotlib.pyplot as plt\n",
    "import numpy as np"
   ]
  },
  {
   "cell_type": "code",
   "execution_count": null,
   "metadata": {},
   "outputs": [],
   "source": [
    "plt.figure(figsize=(5,5))\n",
    "t = np.linspace(0, 6*np.pi, 8)\n",
    "plt.plot(np.cos(t), np.sin(t))\n",
    "plt.savefig('star2.png')"
   ]
  },
  {
   "cell_type": "code",
   "execution_count": null,
   "metadata": {},
   "outputs": [],
   "source": [
    "import json\n",
    " # \"SELF\", \"ALL_FRIENDS\" OR \"EVERYONE\".\n",
    "privacy = json.dumps({\"value\": \"ALL_FRIENDS\"})\n",
    "graph.put_photo(image=open('star2.png', 'rb'), \n",
    "                caption='星星2', privacy=privacy)"
   ]
  },
  {
   "cell_type": "code",
   "execution_count": null,
   "metadata": {
    "collapsed": true
   },
   "outputs": [],
   "source": []
  }
 ],
 "metadata": {
  "kernelspec": {
   "display_name": "Python 3.6",
   "language": "python",
   "name": "python36"
  },
  "language_info": {
   "codemirror_mode": {
    "name": "ipython",
    "version": 3
   },
   "file_extension": ".py",
   "mimetype": "text/x-python",
   "name": "python",
   "nbconvert_exporter": "python",
   "pygments_lexer": "ipython3",
   "version": "3.6.2"
  }
 },
 "nbformat": 4,
 "nbformat_minor": 2
}
