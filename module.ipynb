{
  "nbformat": 4,
  "nbformat_minor": 0,
  "metadata": {
    "colab": {
      "name": "module",
      "version": "0.3.2",
      "provenance": [],
      "collapsed_sections": [],
      "include_colab_link": true
    },
    "kernelspec": {
      "name": "python3",
      "display_name": "Python 3"
    }
  },
  "cells": [
    {
      "cell_type": "markdown",
      "metadata": {
        "id": "view-in-github",
        "colab_type": "text"
      },
      "source": [
        "[View in Colaboratory](https://colab.research.google.com/github/tjwei/NDHU_AM1130/blob/master/module.ipynb)"
      ]
    },
    {
      "metadata": {
        "id": "HYqhmmMgJzmQ",
        "colab_type": "code",
        "colab": {
          "base_uri": "https://localhost:8080/",
          "height": 411
        },
        "outputId": "783e5590-7d6e-4c28-ff8b-8bdb33d5a5f0"
      },
      "cell_type": "code",
      "source": [
        "dir()"
      ],
      "execution_count": 1,
      "outputs": [
        {
          "output_type": "execute_result",
          "data": {
            "text/plain": [
              "['In',\n",
              " 'Out',\n",
              " '_',\n",
              " '__',\n",
              " '___',\n",
              " '__builtin__',\n",
              " '__builtins__',\n",
              " '__doc__',\n",
              " '__loader__',\n",
              " '__name__',\n",
              " '__package__',\n",
              " '__spec__',\n",
              " '_dh',\n",
              " '_i',\n",
              " '_i1',\n",
              " '_ih',\n",
              " '_ii',\n",
              " '_iii',\n",
              " '_oh',\n",
              " '_sh',\n",
              " 'exit',\n",
              " 'get_ipython',\n",
              " 'quit']"
            ]
          },
          "metadata": {
            "tags": []
          },
          "execution_count": 1
        }
      ]
    },
    {
      "metadata": {
        "id": "C8xC0K9KKZfP",
        "colab_type": "code",
        "colab": {
          "base_uri": "https://localhost:8080/",
          "height": 2640
        },
        "outputId": "3d6cf7ea-1184-4dbb-bddc-de7966841690"
      },
      "cell_type": "code",
      "source": [
        "dir(__builtin__)"
      ],
      "execution_count": 3,
      "outputs": [
        {
          "output_type": "execute_result",
          "data": {
            "text/plain": [
              "['ArithmeticError',\n",
              " 'AssertionError',\n",
              " 'AttributeError',\n",
              " 'BaseException',\n",
              " 'BlockingIOError',\n",
              " 'BrokenPipeError',\n",
              " 'BufferError',\n",
              " 'BytesWarning',\n",
              " 'ChildProcessError',\n",
              " 'ConnectionAbortedError',\n",
              " 'ConnectionError',\n",
              " 'ConnectionRefusedError',\n",
              " 'ConnectionResetError',\n",
              " 'DeprecationWarning',\n",
              " 'EOFError',\n",
              " 'Ellipsis',\n",
              " 'EnvironmentError',\n",
              " 'Exception',\n",
              " 'False',\n",
              " 'FileExistsError',\n",
              " 'FileNotFoundError',\n",
              " 'FloatingPointError',\n",
              " 'FutureWarning',\n",
              " 'GeneratorExit',\n",
              " 'IOError',\n",
              " 'ImportError',\n",
              " 'ImportWarning',\n",
              " 'IndentationError',\n",
              " 'IndexError',\n",
              " 'InterruptedError',\n",
              " 'IsADirectoryError',\n",
              " 'KeyError',\n",
              " 'KeyboardInterrupt',\n",
              " 'LookupError',\n",
              " 'MemoryError',\n",
              " 'ModuleNotFoundError',\n",
              " 'NameError',\n",
              " 'None',\n",
              " 'NotADirectoryError',\n",
              " 'NotImplemented',\n",
              " 'NotImplementedError',\n",
              " 'OSError',\n",
              " 'OverflowError',\n",
              " 'PendingDeprecationWarning',\n",
              " 'PermissionError',\n",
              " 'ProcessLookupError',\n",
              " 'RecursionError',\n",
              " 'ReferenceError',\n",
              " 'ResourceWarning',\n",
              " 'RuntimeError',\n",
              " 'RuntimeWarning',\n",
              " 'StopAsyncIteration',\n",
              " 'StopIteration',\n",
              " 'SyntaxError',\n",
              " 'SyntaxWarning',\n",
              " 'SystemError',\n",
              " 'SystemExit',\n",
              " 'TabError',\n",
              " 'TimeoutError',\n",
              " 'True',\n",
              " 'TypeError',\n",
              " 'UnboundLocalError',\n",
              " 'UnicodeDecodeError',\n",
              " 'UnicodeEncodeError',\n",
              " 'UnicodeError',\n",
              " 'UnicodeTranslateError',\n",
              " 'UnicodeWarning',\n",
              " 'UserWarning',\n",
              " 'ValueError',\n",
              " 'Warning',\n",
              " 'ZeroDivisionError',\n",
              " '__IPYTHON__',\n",
              " '__build_class__',\n",
              " '__debug__',\n",
              " '__doc__',\n",
              " '__import__',\n",
              " '__loader__',\n",
              " '__name__',\n",
              " '__package__',\n",
              " '__spec__',\n",
              " 'abs',\n",
              " 'all',\n",
              " 'any',\n",
              " 'ascii',\n",
              " 'bin',\n",
              " 'bool',\n",
              " 'bytearray',\n",
              " 'bytes',\n",
              " 'callable',\n",
              " 'chr',\n",
              " 'classmethod',\n",
              " 'compile',\n",
              " 'complex',\n",
              " 'copyright',\n",
              " 'credits',\n",
              " 'delattr',\n",
              " 'dict',\n",
              " 'dir',\n",
              " 'display',\n",
              " 'divmod',\n",
              " 'dreload',\n",
              " 'enumerate',\n",
              " 'eval',\n",
              " 'exec',\n",
              " 'filter',\n",
              " 'float',\n",
              " 'format',\n",
              " 'frozenset',\n",
              " 'get_ipython',\n",
              " 'getattr',\n",
              " 'globals',\n",
              " 'hasattr',\n",
              " 'hash',\n",
              " 'help',\n",
              " 'hex',\n",
              " 'id',\n",
              " 'input',\n",
              " 'int',\n",
              " 'isinstance',\n",
              " 'issubclass',\n",
              " 'iter',\n",
              " 'len',\n",
              " 'license',\n",
              " 'list',\n",
              " 'locals',\n",
              " 'map',\n",
              " 'max',\n",
              " 'memoryview',\n",
              " 'min',\n",
              " 'next',\n",
              " 'object',\n",
              " 'oct',\n",
              " 'open',\n",
              " 'ord',\n",
              " 'pow',\n",
              " 'print',\n",
              " 'property',\n",
              " 'range',\n",
              " 'repr',\n",
              " 'reversed',\n",
              " 'round',\n",
              " 'set',\n",
              " 'setattr',\n",
              " 'slice',\n",
              " 'sorted',\n",
              " 'staticmethod',\n",
              " 'str',\n",
              " 'sum',\n",
              " 'super',\n",
              " 'tuple',\n",
              " 'type',\n",
              " 'vars',\n",
              " 'zip']"
            ]
          },
          "metadata": {
            "tags": []
          },
          "execution_count": 3
        }
      ]
    },
    {
      "metadata": {
        "id": "xSH8Xg8zK6He",
        "colab_type": "code",
        "colab": {}
      },
      "cell_type": "code",
      "source": [
        "import math"
      ],
      "execution_count": 0,
      "outputs": []
    },
    {
      "metadata": {
        "id": "u16EA4cvK94-",
        "colab_type": "code",
        "colab": {
          "base_uri": "https://localhost:8080/",
          "height": 34
        },
        "outputId": "57cb6099-5838-4bdd-ef5e-c914b88f59ef"
      },
      "cell_type": "code",
      "source": [
        "math.pi"
      ],
      "execution_count": 5,
      "outputs": [
        {
          "output_type": "execute_result",
          "data": {
            "text/plain": [
              "3.141592653589793"
            ]
          },
          "metadata": {
            "tags": []
          },
          "execution_count": 5
        }
      ]
    },
    {
      "metadata": {
        "id": "73v3HmdALEvO",
        "colab_type": "code",
        "colab": {
          "base_uri": "https://localhost:8080/",
          "height": 34
        },
        "outputId": "d52baac9-a1e9-4efd-bf7a-c64fe9ac2489"
      },
      "cell_type": "code",
      "source": [
        "math.e"
      ],
      "execution_count": 6,
      "outputs": [
        {
          "output_type": "execute_result",
          "data": {
            "text/plain": [
              "2.718281828459045"
            ]
          },
          "metadata": {
            "tags": []
          },
          "execution_count": 6
        }
      ]
    },
    {
      "metadata": {
        "id": "nTlP3dYgLE8O",
        "colab_type": "code",
        "colab": {
          "base_uri": "https://localhost:8080/",
          "height": 34
        },
        "outputId": "cb808efe-ab2b-4883-9592-fe6be4d2e447"
      },
      "cell_type": "code",
      "source": [
        "(1+1/10000)**10000"
      ],
      "execution_count": 10,
      "outputs": [
        {
          "output_type": "execute_result",
          "data": {
            "text/plain": [
              "2.7181459268249255"
            ]
          },
          "metadata": {
            "tags": []
          },
          "execution_count": 10
        }
      ]
    },
    {
      "metadata": {
        "id": "rM1M15-yLUXW",
        "colab_type": "code",
        "colab": {
          "base_uri": "https://localhost:8080/",
          "height": 34
        },
        "outputId": "0de3e067-34a9-43af-f384-f3a8d5fd843f"
      },
      "cell_type": "code",
      "source": [
        "math.tau"
      ],
      "execution_count": 12,
      "outputs": [
        {
          "output_type": "execute_result",
          "data": {
            "text/plain": [
              "6.283185307179586"
            ]
          },
          "metadata": {
            "tags": []
          },
          "execution_count": 12
        }
      ]
    },
    {
      "metadata": {
        "id": "rzeIPXpULfh-",
        "colab_type": "code",
        "colab": {
          "base_uri": "https://localhost:8080/",
          "height": 34
        },
        "outputId": "fb01234a-e078-4980-f131-c4e585bec4ea"
      },
      "cell_type": "code",
      "source": [
        "math.sin(math.pi/3)"
      ],
      "execution_count": 13,
      "outputs": [
        {
          "output_type": "execute_result",
          "data": {
            "text/plain": [
              "0.8660254037844386"
            ]
          },
          "metadata": {
            "tags": []
          },
          "execution_count": 13
        }
      ]
    },
    {
      "metadata": {
        "id": "PY-m-rjILoxu",
        "colab_type": "code",
        "colab": {
          "base_uri": "https://localhost:8080/",
          "height": 34
        },
        "outputId": "27f0be32-be7c-40c6-c17d-2d741bf6e308"
      },
      "cell_type": "code",
      "source": [
        "math.sin(math.pi/4)**2"
      ],
      "execution_count": 15,
      "outputs": [
        {
          "output_type": "execute_result",
          "data": {
            "text/plain": [
              "0.4999999999999999"
            ]
          },
          "metadata": {
            "tags": []
          },
          "execution_count": 15
        }
      ]
    },
    {
      "metadata": {
        "id": "vkzag_wNLux2",
        "colab_type": "code",
        "colab": {
          "base_uri": "https://localhost:8080/",
          "height": 34
        },
        "outputId": "ec77ee3d-8e71-435f-d72f-77abfc1db442"
      },
      "cell_type": "code",
      "source": [
        "math.sqrt(5)"
      ],
      "execution_count": 16,
      "outputs": [
        {
          "output_type": "execute_result",
          "data": {
            "text/plain": [
              "2.23606797749979"
            ]
          },
          "metadata": {
            "tags": []
          },
          "execution_count": 16
        }
      ]
    },
    {
      "metadata": {
        "id": "fPLaZe-NLy2G",
        "colab_type": "code",
        "colab": {
          "base_uri": "https://localhost:8080/",
          "height": 34
        },
        "outputId": "28b9ec4c-af99-4472-f7ca-4716bf02b304"
      },
      "cell_type": "code",
      "source": [
        "math.sqrt(5)**2"
      ],
      "execution_count": 17,
      "outputs": [
        {
          "output_type": "execute_result",
          "data": {
            "text/plain": [
              "5.000000000000001"
            ]
          },
          "metadata": {
            "tags": []
          },
          "execution_count": 17
        }
      ]
    },
    {
      "metadata": {
        "id": "CGn8ExZnL2Q-",
        "colab_type": "code",
        "colab": {
          "base_uri": "https://localhost:8080/",
          "height": 943
        },
        "outputId": "23b85bc4-6e53-4417-c74a-c0d21785c337"
      },
      "cell_type": "code",
      "source": [
        "dir(math)"
      ],
      "execution_count": 20,
      "outputs": [
        {
          "output_type": "execute_result",
          "data": {
            "text/plain": [
              "['__doc__',\n",
              " '__loader__',\n",
              " '__name__',\n",
              " '__package__',\n",
              " '__spec__',\n",
              " 'acos',\n",
              " 'acosh',\n",
              " 'asin',\n",
              " 'asinh',\n",
              " 'atan',\n",
              " 'atan2',\n",
              " 'atanh',\n",
              " 'ceil',\n",
              " 'copysign',\n",
              " 'cos',\n",
              " 'cosh',\n",
              " 'degrees',\n",
              " 'e',\n",
              " 'erf',\n",
              " 'erfc',\n",
              " 'exp',\n",
              " 'expm1',\n",
              " 'fabs',\n",
              " 'factorial',\n",
              " 'floor',\n",
              " 'fmod',\n",
              " 'frexp',\n",
              " 'fsum',\n",
              " 'gamma',\n",
              " 'gcd',\n",
              " 'hypot',\n",
              " 'inf',\n",
              " 'isclose',\n",
              " 'isfinite',\n",
              " 'isinf',\n",
              " 'isnan',\n",
              " 'ldexp',\n",
              " 'lgamma',\n",
              " 'log',\n",
              " 'log10',\n",
              " 'log1p',\n",
              " 'log2',\n",
              " 'modf',\n",
              " 'nan',\n",
              " 'pi',\n",
              " 'pow',\n",
              " 'radians',\n",
              " 'sin',\n",
              " 'sinh',\n",
              " 'sqrt',\n",
              " 'tan',\n",
              " 'tanh',\n",
              " 'tau',\n",
              " 'trunc']"
            ]
          },
          "metadata": {
            "tags": []
          },
          "execution_count": 20
        }
      ]
    },
    {
      "metadata": {
        "id": "ibxeA1A8MIdW",
        "colab_type": "code",
        "colab": {
          "base_uri": "https://localhost:8080/",
          "height": 34
        },
        "outputId": "7f7943c0-7170-435b-f29b-bc812a0b24d4"
      },
      "cell_type": "code",
      "source": [
        "math.gcd(5,3)"
      ],
      "execution_count": 21,
      "outputs": [
        {
          "output_type": "execute_result",
          "data": {
            "text/plain": [
              "1"
            ]
          },
          "metadata": {
            "tags": []
          },
          "execution_count": 21
        }
      ]
    },
    {
      "metadata": {
        "id": "_P13shLHMLKO",
        "colab_type": "code",
        "colab": {
          "base_uri": "https://localhost:8080/",
          "height": 34
        },
        "outputId": "7313154f-9963-4a46-baa5-cb6885852d78"
      },
      "cell_type": "code",
      "source": [
        "math.gcd(20,30)"
      ],
      "execution_count": 22,
      "outputs": [
        {
          "output_type": "execute_result",
          "data": {
            "text/plain": [
              "10"
            ]
          },
          "metadata": {
            "tags": []
          },
          "execution_count": 22
        }
      ]
    },
    {
      "metadata": {
        "id": "dAiFiS3fMOiw",
        "colab_type": "code",
        "colab": {
          "base_uri": "https://localhost:8080/",
          "height": 34
        },
        "outputId": "47e4ee96-8993-4dbe-aacb-7c709ab221a7"
      },
      "cell_type": "code",
      "source": [
        "math.gcd(-20,-30)"
      ],
      "execution_count": 23,
      "outputs": [
        {
          "output_type": "execute_result",
          "data": {
            "text/plain": [
              "10"
            ]
          },
          "metadata": {
            "tags": []
          },
          "execution_count": 23
        }
      ]
    },
    {
      "metadata": {
        "id": "--k3jaFiMRF_",
        "colab_type": "code",
        "colab": {
          "base_uri": "https://localhost:8080/",
          "height": 34
        },
        "outputId": "eb25fe83-cce7-47f0-848b-9b3b4cc17ad1"
      },
      "cell_type": "code",
      "source": [
        "5%3"
      ],
      "execution_count": 25,
      "outputs": [
        {
          "output_type": "execute_result",
          "data": {
            "text/plain": [
              "2"
            ]
          },
          "metadata": {
            "tags": []
          },
          "execution_count": 25
        }
      ]
    },
    {
      "metadata": {
        "id": "NXHhlRb5MUv3",
        "colab_type": "code",
        "colab": {
          "base_uri": "https://localhost:8080/",
          "height": 34
        },
        "outputId": "a66b93d2-0766-417d-bf6b-dcab46d3d07d"
      },
      "cell_type": "code",
      "source": [
        "(-5)%3"
      ],
      "execution_count": 26,
      "outputs": [
        {
          "output_type": "execute_result",
          "data": {
            "text/plain": [
              "1"
            ]
          },
          "metadata": {
            "tags": []
          },
          "execution_count": 26
        }
      ]
    },
    {
      "metadata": {
        "id": "VxLSzWdFMYWG",
        "colab_type": "code",
        "colab": {
          "base_uri": "https://localhost:8080/",
          "height": 34
        },
        "outputId": "21775e85-c3b3-43bc-b474-b2c951c3ad6e"
      },
      "cell_type": "code",
      "source": [
        "math.sin(math.pi/3)"
      ],
      "execution_count": 27,
      "outputs": [
        {
          "output_type": "execute_result",
          "data": {
            "text/plain": [
              "0.8660254037844386"
            ]
          },
          "metadata": {
            "tags": []
          },
          "execution_count": 27
        }
      ]
    },
    {
      "metadata": {
        "id": "Uhzp2kmaMhpA",
        "colab_type": "code",
        "colab": {
          "base_uri": "https://localhost:8080/",
          "height": 34
        },
        "outputId": "7b97ec49-c2dc-4982-fe2c-bcc0af61aae8"
      },
      "cell_type": "code",
      "source": [
        "sin = math.sin\n",
        "pi = math.pi\n",
        "sin(pi/3)"
      ],
      "execution_count": 28,
      "outputs": [
        {
          "output_type": "execute_result",
          "data": {
            "text/plain": [
              "0.8660254037844386"
            ]
          },
          "metadata": {
            "tags": []
          },
          "execution_count": 28
        }
      ]
    },
    {
      "metadata": {
        "id": "M9uebBlOMode",
        "colab_type": "code",
        "colab": {}
      },
      "cell_type": "code",
      "source": [
        "from math import *"
      ],
      "execution_count": 0,
      "outputs": []
    },
    {
      "metadata": {
        "id": "o0tfmCwOMudO",
        "colab_type": "code",
        "colab": {
          "base_uri": "https://localhost:8080/",
          "height": 34
        },
        "outputId": "0974e432-5b62-4b5a-e985-abb15c7b66f6"
      },
      "cell_type": "code",
      "source": [
        "cos(tau)"
      ],
      "execution_count": 32,
      "outputs": [
        {
          "output_type": "execute_result",
          "data": {
            "text/plain": [
              "1.0"
            ]
          },
          "metadata": {
            "tags": []
          },
          "execution_count": 32
        }
      ]
    },
    {
      "metadata": {
        "id": "3i6BpoYgM2LP",
        "colab_type": "code",
        "colab": {
          "base_uri": "https://localhost:8080/",
          "height": 3120
        },
        "outputId": "ef77a4cd-09e2-4cd4-95b3-1e60e969cdd9"
      },
      "cell_type": "code",
      "source": [
        "for i in range(0, 181):\n",
        "  print(\"cos({}°) = {}\".format(i, cos(pi*i/180)))"
      ],
      "execution_count": 39,
      "outputs": [
        {
          "output_type": "stream",
          "text": [
            "cos(0°) = 1.0\n",
            "cos(1°) = 0.9998476951563913\n",
            "cos(2°) = 0.9993908270190958\n",
            "cos(3°) = 0.9986295347545738\n",
            "cos(4°) = 0.9975640502598242\n",
            "cos(5°) = 0.9961946980917455\n",
            "cos(6°) = 0.9945218953682733\n",
            "cos(7°) = 0.992546151641322\n",
            "cos(8°) = 0.9902680687415704\n",
            "cos(9°) = 0.9876883405951378\n",
            "cos(10°) = 0.984807753012208\n",
            "cos(11°) = 0.981627183447664\n",
            "cos(12°) = 0.9781476007338057\n",
            "cos(13°) = 0.9743700647852352\n",
            "cos(14°) = 0.9702957262759965\n",
            "cos(15°) = 0.9659258262890683\n",
            "cos(16°) = 0.9612616959383189\n",
            "cos(17°) = 0.9563047559630354\n",
            "cos(18°) = 0.9510565162951535\n",
            "cos(19°) = 0.9455185755993168\n",
            "cos(20°) = 0.9396926207859084\n",
            "cos(21°) = 0.9335804264972017\n",
            "cos(22°) = 0.9271838545667874\n",
            "cos(23°) = 0.9205048534524404\n",
            "cos(24°) = 0.9135454576426009\n",
            "cos(25°) = 0.9063077870366499\n",
            "cos(26°) = 0.898794046299167\n",
            "cos(27°) = 0.8910065241883679\n",
            "cos(28°) = 0.882947592858927\n",
            "cos(29°) = 0.8746197071393957\n",
            "cos(30°) = 0.8660254037844387\n",
            "cos(31°) = 0.8571673007021123\n",
            "cos(32°) = 0.848048096156426\n",
            "cos(33°) = 0.838670567945424\n",
            "cos(34°) = 0.8290375725550416\n",
            "cos(35°) = 0.8191520442889918\n",
            "cos(36°) = 0.8090169943749475\n",
            "cos(37°) = 0.7986355100472928\n",
            "cos(38°) = 0.788010753606722\n",
            "cos(39°) = 0.7771459614569709\n",
            "cos(40°) = 0.766044443118978\n",
            "cos(41°) = 0.7547095802227721\n",
            "cos(42°) = 0.7431448254773942\n",
            "cos(43°) = 0.7313537016191706\n",
            "cos(44°) = 0.7193398003386512\n",
            "cos(45°) = 0.7071067811865476\n",
            "cos(46°) = 0.6946583704589974\n",
            "cos(47°) = 0.6819983600624985\n",
            "cos(48°) = 0.6691306063588582\n",
            "cos(49°) = 0.6560590289905073\n",
            "cos(50°) = 0.6427876096865394\n",
            "cos(51°) = 0.6293203910498375\n",
            "cos(52°) = 0.6156614753256583\n",
            "cos(53°) = 0.6018150231520484\n",
            "cos(54°) = 0.5877852522924731\n",
            "cos(55°) = 0.5735764363510462\n",
            "cos(56°) = 0.5591929034707468\n",
            "cos(57°) = 0.5446390350150272\n",
            "cos(58°) = 0.5299192642332049\n",
            "cos(59°) = 0.5150380749100544\n",
            "cos(60°) = 0.5000000000000001\n",
            "cos(61°) = 0.4848096202463371\n",
            "cos(62°) = 0.46947156278589086\n",
            "cos(63°) = 0.4539904997395468\n",
            "cos(64°) = 0.43837114678907746\n",
            "cos(65°) = 0.42261826174069944\n",
            "cos(66°) = 0.4067366430758002\n",
            "cos(67°) = 0.39073112848927394\n",
            "cos(68°) = 0.37460659341591196\n",
            "cos(69°) = 0.3583679495453004\n",
            "cos(70°) = 0.3420201433256688\n",
            "cos(71°) = 0.32556815445715676\n",
            "cos(72°) = 0.30901699437494745\n",
            "cos(73°) = 0.29237170472273677\n",
            "cos(74°) = 0.27563735581699916\n",
            "cos(75°) = 0.25881904510252074\n",
            "cos(76°) = 0.2419218955996679\n",
            "cos(77°) = 0.22495105434386492\n",
            "cos(78°) = 0.20791169081775945\n",
            "cos(79°) = 0.19080899537654492\n",
            "cos(80°) = 0.17364817766693041\n",
            "cos(81°) = 0.15643446504023092\n",
            "cos(82°) = 0.1391731009600657\n",
            "cos(83°) = 0.12186934340514749\n",
            "cos(84°) = 0.10452846326765346\n",
            "cos(85°) = 0.08715574274765814\n",
            "cos(86°) = 0.06975647374412546\n",
            "cos(87°) = 0.052335956242943966\n",
            "cos(88°) = 0.03489949670250108\n",
            "cos(89°) = 0.017452406437283376\n",
            "cos(90°) = 6.123233995736766e-17\n",
            "cos(91°) = -0.017452406437283477\n",
            "cos(92°) = -0.03489949670250073\n",
            "cos(93°) = -0.05233595624294362\n",
            "cos(94°) = -0.06975647374412533\n",
            "cos(95°) = -0.08715574274765824\n",
            "cos(96°) = -0.10452846326765333\n",
            "cos(97°) = -0.12186934340514737\n",
            "cos(98°) = -0.13917310096006535\n",
            "cos(99°) = -0.15643446504023104\n",
            "cos(100°) = -0.1736481776669303\n",
            "cos(101°) = -0.1908089953765448\n",
            "cos(102°) = -0.20791169081775912\n",
            "cos(103°) = -0.2249510543438648\n",
            "cos(104°) = -0.24192189559966779\n",
            "cos(105°) = -0.25881904510252085\n",
            "cos(106°) = -0.27563735581699905\n",
            "cos(107°) = -0.29237170472273666\n",
            "cos(108°) = -0.30901699437494734\n",
            "cos(109°) = -0.3255681544571564\n",
            "cos(110°) = -0.3420201433256687\n",
            "cos(111°) = -0.35836794954530027\n",
            "cos(112°) = -0.37460659341591207\n",
            "cos(113°) = -0.3907311284892736\n",
            "cos(114°) = -0.40673664307580004\n",
            "cos(115°) = -0.42261826174069933\n",
            "cos(116°) = -0.4383711467890775\n",
            "cos(117°) = -0.4539904997395467\n",
            "cos(118°) = -0.46947156278589053\n",
            "cos(119°) = -0.484809620246337\n",
            "cos(120°) = -0.4999999999999998\n",
            "cos(121°) = -0.5150380749100543\n",
            "cos(122°) = -0.5299192642332048\n",
            "cos(123°) = -0.5446390350150271\n",
            "cos(124°) = -0.5591929034707467\n",
            "cos(125°) = -0.5735764363510458\n",
            "cos(126°) = -0.587785252292473\n",
            "cos(127°) = -0.6018150231520484\n",
            "cos(128°) = -0.6156614753256583\n",
            "cos(129°) = -0.6293203910498373\n",
            "cos(130°) = -0.6427876096865394\n",
            "cos(131°) = -0.6560590289905075\n",
            "cos(132°) = -0.6691306063588582\n",
            "cos(133°) = -0.6819983600624984\n",
            "cos(134°) = -0.694658370458997\n",
            "cos(135°) = -0.7071067811865475\n",
            "cos(136°) = -0.7193398003386512\n",
            "cos(137°) = -0.7313537016191705\n",
            "cos(138°) = -0.743144825477394\n",
            "cos(139°) = -0.754709580222772\n",
            "cos(140°) = -0.7660444431189779\n",
            "cos(141°) = -0.7771459614569707\n",
            "cos(142°) = -0.7880107536067219\n",
            "cos(143°) = -0.7986355100472929\n",
            "cos(144°) = -0.8090169943749473\n",
            "cos(145°) = -0.8191520442889916\n",
            "cos(146°) = -0.8290375725550416\n",
            "cos(147°) = -0.8386705679454242\n",
            "cos(148°) = -0.848048096156426\n",
            "cos(149°) = -0.8571673007021122\n",
            "cos(150°) = -0.8660254037844387\n",
            "cos(151°) = -0.8746197071393957\n",
            "cos(152°) = -0.8829475928589268\n",
            "cos(153°) = -0.8910065241883678\n",
            "cos(154°) = -0.898794046299167\n",
            "cos(155°) = -0.9063077870366499\n",
            "cos(156°) = -0.9135454576426008\n",
            "cos(157°) = -0.9205048534524402\n",
            "cos(158°) = -0.9271838545667873\n",
            "cos(159°) = -0.9335804264972017\n",
            "cos(160°) = -0.9396926207859083\n",
            "cos(161°) = -0.9455185755993167\n",
            "cos(162°) = -0.9510565162951535\n",
            "cos(163°) = -0.9563047559630354\n",
            "cos(164°) = -0.9612616959383187\n",
            "cos(165°) = -0.9659258262890682\n",
            "cos(166°) = -0.9702957262759965\n",
            "cos(167°) = -0.9743700647852352\n",
            "cos(168°) = -0.9781476007338057\n",
            "cos(169°) = -0.981627183447664\n",
            "cos(170°) = -0.984807753012208\n",
            "cos(171°) = -0.9876883405951377\n",
            "cos(172°) = -0.9902680687415703\n",
            "cos(173°) = -0.992546151641322\n",
            "cos(174°) = -0.9945218953682733\n",
            "cos(175°) = -0.9961946980917455\n",
            "cos(176°) = -0.9975640502598242\n",
            "cos(177°) = -0.9986295347545738\n",
            "cos(178°) = -0.9993908270190958\n",
            "cos(179°) = -0.9998476951563913\n",
            "cos(180°) = -1.0\n"
          ],
          "name": "stdout"
        }
      ]
    }
  ]
}